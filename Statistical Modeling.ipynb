{
 "cells": [
  {
   "cell_type": "markdown",
   "id": "a83da6c0",
   "metadata": {},
   "source": [
    "# EDA in Python"
   ]
  },
  {
   "cell_type": "markdown",
   "id": "313e8047",
   "metadata": {},
   "source": [
    "This assignment requires a certain amount of research and initiative, as not all tasks and subtasks are fully defined. You are expected to employ critical and creative thinking skills to complete this assignment in a comprehensive manner.\n",
    "\n",
    "Tasks:\n",
    "\n",
    "   - Refer to the assigned readings for examples on how to approach EDA in a professional manner.\n",
    "   - Select a dataset from a reputable source (e.g., from Kaggle, UCI Machine Learning Repository) from the list of \"Repositories for Finding Suitable Datasets,\" located in Class Resources, that is suitable for exploratory data analysis. The dataset should have at least 10 variables and 1,000 rows.\n",
    "   - Conduct exploratory data analysis on the selected dataset using Python libraries (e.g.,  Pandas, Matplotlib, Seaborn). The analysis should include data cleaning, summary statistics, and visualizations to understand the data distribution and patterns.\n",
    "   - Identify potential research questions or hypotheses that could be addressed through this analysis, and conduct correlation analysis to explore the relationships between variables. Use appropriate statistical techniques to measure the strength and direction of the relationship.\n",
    "   - Fit a regression model to investigate the relationship between two or more variables in the dataset. Use appropriate techniques to validate the assumptions of the regression model, such as normality, linearity, and homoscedasticity.\n",
    "   - Document the analysis process and findings in a report, including data visualizations, summary statistics, correlation analysis, and regression modeling. The report should provide clear and concise explanations of the analysis methods and results."
   ]
  },
  {
   "cell_type": "markdown",
   "id": "aae5c00c",
   "metadata": {},
   "source": []
  },
  {
   "cell_type": "markdown",
   "id": "bb7ad909",
   "metadata": {},
   "source": []
  },
  {
   "cell_type": "markdown",
   "id": "a1edbfcb",
   "metadata": {},
   "source": []
  },
  {
   "cell_type": "markdown",
   "id": "c2365b1f",
   "metadata": {},
   "source": []
  },
  {
   "cell_type": "markdown",
   "id": "e3e27dec",
   "metadata": {},
   "source": []
  },
  {
   "cell_type": "markdown",
   "id": "d26cfb57",
   "metadata": {},
   "source": []
  },
  {
   "cell_type": "markdown",
   "id": "7314075a",
   "metadata": {},
   "source": []
  },
  {
   "cell_type": "code",
   "execution_count": 302,
   "id": "5a9be8e4",
   "metadata": {},
   "outputs": [],
   "source": []
  },
  {
   "cell_type": "markdown",
   "id": "1d23db01",
   "metadata": {},
   "source": []
  },
  {
   "cell_type": "code",
   "execution_count": null,
   "id": "e0b754eb",
   "metadata": {},
   "outputs": [],
   "source": []
  },
  {
   "cell_type": "markdown",
   "id": "cb725a0f",
   "metadata": {},
   "source": []
  },
  {
   "cell_type": "markdown",
   "id": "28835d59",
   "metadata": {},
   "source": []
  },
  {
   "cell_type": "code",
   "execution_count": null,
   "id": "f18ee4f5",
   "metadata": {},
   "outputs": [],
   "source": []
  },
  {
   "cell_type": "markdown",
   "id": "6d44fb0c",
   "metadata": {},
   "source": []
  },
  {
   "cell_type": "markdown",
   "id": "68e5c8cc",
   "metadata": {},
   "source": [
    " "
   ]
  },
  {
   "cell_type": "code",
   "execution_count": null,
   "id": "c04f38a9",
   "metadata": {},
   "outputs": [],
   "source": []
  },
  {
   "cell_type": "markdown",
   "id": "25beee69",
   "metadata": {},
   "source": []
  },
  {
   "cell_type": "code",
   "execution_count": null,
   "id": "6c65cbab",
   "metadata": {},
   "outputs": [],
   "source": []
  },
  {
   "cell_type": "code",
   "execution_count": null,
   "id": "55559cba",
   "metadata": {},
   "outputs": [],
   "source": []
  },
  {
   "cell_type": "code",
   "execution_count": null,
   "id": "5cf87a60",
   "metadata": {},
   "outputs": [],
   "source": []
  },
  {
   "cell_type": "markdown",
   "id": "56f558d8",
   "metadata": {},
   "source": []
  },
  {
   "cell_type": "code",
   "execution_count": null,
   "id": "9da2f829",
   "metadata": {},
   "outputs": [],
   "source": []
  },
  {
   "cell_type": "markdown",
   "id": "672c801b",
   "metadata": {},
   "source": []
  },
  {
   "cell_type": "markdown",
   "id": "423fd8cc",
   "metadata": {},
   "source": []
  },
  {
   "cell_type": "code",
   "execution_count": null,
   "id": "2987f86d",
   "metadata": {},
   "outputs": [],
   "source": []
  },
  {
   "cell_type": "markdown",
   "id": "7f8a7d21",
   "metadata": {},
   "source": []
  },
  {
   "cell_type": "markdown",
   "id": "a11040c3",
   "metadata": {},
   "source": []
  },
  {
   "cell_type": "code",
   "execution_count": null,
   "id": "3a05c91a",
   "metadata": {},
   "outputs": [],
   "source": []
  },
  {
   "cell_type": "code",
   "execution_count": null,
   "id": "df70dd95",
   "metadata": {},
   "outputs": [],
   "source": []
  },
  {
   "cell_type": "code",
   "execution_count": null,
   "id": "db78f243",
   "metadata": {},
   "outputs": [],
   "source": []
  },
  {
   "cell_type": "markdown",
   "id": "57fc9b3d",
   "metadata": {},
   "source": []
  },
  {
   "cell_type": "code",
   "execution_count": null,
   "id": "c40053ec",
   "metadata": {},
   "outputs": [],
   "source": []
  },
  {
   "cell_type": "markdown",
   "id": "e4dc1003",
   "metadata": {},
   "source": []
  },
  {
   "cell_type": "markdown",
   "id": "94e462de",
   "metadata": {},
   "source": []
  },
  {
   "cell_type": "code",
   "execution_count": null,
   "id": "33aca1fd",
   "metadata": {},
   "outputs": [],
   "source": []
  },
  {
   "cell_type": "code",
   "execution_count": null,
   "id": "c62d1131",
   "metadata": {},
   "outputs": [],
   "source": []
  },
  {
   "cell_type": "code",
   "execution_count": null,
   "id": "865ff99f",
   "metadata": {},
   "outputs": [],
   "source": []
  },
  {
   "cell_type": "markdown",
   "id": "c895a7ba",
   "metadata": {},
   "source": []
  },
  {
   "cell_type": "code",
   "execution_count": null,
   "id": "84eb29b2",
   "metadata": {},
   "outputs": [],
   "source": []
  },
  {
   "cell_type": "markdown",
   "id": "3ac65164",
   "metadata": {},
   "source": []
  },
  {
   "cell_type": "markdown",
   "id": "b30b2ba4",
   "metadata": {},
   "source": []
  },
  {
   "cell_type": "code",
   "execution_count": 319,
   "id": "ca1f8d76",
   "metadata": {},
   "outputs": [],
   "source": [
    "\n"
   ]
  },
  {
   "cell_type": "code",
   "execution_count": null,
   "id": "0695e232",
   "metadata": {},
   "outputs": [],
   "source": []
  },
  {
   "cell_type": "code",
   "execution_count": null,
   "id": "033d2206",
   "metadata": {},
   "outputs": [],
   "source": []
  },
  {
   "cell_type": "markdown",
   "id": "379aa0b6",
   "metadata": {},
   "source": []
  },
  {
   "cell_type": "code",
   "execution_count": 322,
   "id": "49b98f44",
   "metadata": {},
   "outputs": [],
   "source": [
    "\n"
   ]
  },
  {
   "cell_type": "code",
   "execution_count": 323,
   "id": "d8fe5e6e",
   "metadata": {},
   "outputs": [],
   "source": []
  },
  {
   "cell_type": "code",
   "execution_count": null,
   "id": "362bcc47",
   "metadata": {},
   "outputs": [],
   "source": [
    "\n"
   ]
  },
  {
   "cell_type": "code",
   "execution_count": null,
   "id": "52dbb706",
   "metadata": {},
   "outputs": [],
   "source": []
  },
  {
   "cell_type": "markdown",
   "id": "bb1e5193",
   "metadata": {},
   "source": []
  },
  {
   "cell_type": "markdown",
   "id": "61ed39f6",
   "metadata": {},
   "source": []
  },
  {
   "cell_type": "code",
   "execution_count": 326,
   "id": "45a4b0e4",
   "metadata": {},
   "outputs": [],
   "source": []
  },
  {
   "cell_type": "markdown",
   "id": "92021e46",
   "metadata": {},
   "source": []
  },
  {
   "cell_type": "code",
   "execution_count": null,
   "id": "48e83bee",
   "metadata": {},
   "outputs": [],
   "source": [
    "\n"
   ]
  },
  {
   "cell_type": "code",
   "execution_count": null,
   "id": "31bbcef3",
   "metadata": {},
   "outputs": [],
   "source": []
  },
  {
   "cell_type": "markdown",
   "id": "eae0fba1",
   "metadata": {},
   "source": []
  },
  {
   "cell_type": "markdown",
   "id": "e58c5332",
   "metadata": {},
   "source": []
  },
  {
   "cell_type": "markdown",
   "id": "89a859e2",
   "metadata": {},
   "source": []
  },
  {
   "cell_type": "code",
   "execution_count": null,
   "id": "0d864ecd",
   "metadata": {},
   "outputs": [],
   "source": []
  },
  {
   "cell_type": "code",
   "execution_count": null,
   "id": "67ac57ff",
   "metadata": {},
   "outputs": [],
   "source": []
  },
  {
   "cell_type": "code",
   "execution_count": 331,
   "id": "28dc4e12",
   "metadata": {},
   "outputs": [],
   "source": []
  },
  {
   "cell_type": "markdown",
   "id": "90cdccf1",
   "metadata": {},
   "source": []
  },
  {
   "cell_type": "markdown",
   "id": "31bb92e6",
   "metadata": {},
   "source": []
  },
  {
   "cell_type": "code",
   "execution_count": null,
   "id": "50903522",
   "metadata": {},
   "outputs": [],
   "source": []
  },
  {
   "cell_type": "markdown",
   "id": "cfd05a06",
   "metadata": {},
   "source": []
  },
  {
   "cell_type": "markdown",
   "id": "6b755029",
   "metadata": {},
   "source": []
  },
  {
   "cell_type": "markdown",
   "id": "60e5a2d0",
   "metadata": {},
   "source": []
  },
  {
   "cell_type": "code",
   "execution_count": null,
   "id": "57ebf4f2",
   "metadata": {},
   "outputs": [],
   "source": [
    "\n"
   ]
  },
  {
   "cell_type": "markdown",
   "id": "004d9d5e",
   "metadata": {},
   "source": []
  },
  {
   "cell_type": "markdown",
   "id": "f11d5b30",
   "metadata": {},
   "source": []
  },
  {
   "cell_type": "markdown",
   "id": "c90e979d",
   "metadata": {},
   "source": []
  },
  {
   "cell_type": "code",
   "execution_count": null,
   "id": "8c5ebc1b",
   "metadata": {},
   "outputs": [],
   "source": []
  },
  {
   "cell_type": "code",
   "execution_count": null,
   "id": "c9ffa6e5",
   "metadata": {},
   "outputs": [],
   "source": []
  },
  {
   "cell_type": "markdown",
   "id": "52b67435",
   "metadata": {},
   "source": []
  },
  {
   "cell_type": "code",
   "execution_count": null,
   "id": "1f1d9e23",
   "metadata": {},
   "outputs": [],
   "source": []
  },
  {
   "cell_type": "markdown",
   "id": "88562678",
   "metadata": {},
   "source": []
  },
  {
   "cell_type": "markdown",
   "id": "9db20524",
   "metadata": {},
   "source": []
  },
  {
   "cell_type": "markdown",
   "id": "1631875c",
   "metadata": {},
   "source": []
  },
  {
   "cell_type": "markdown",
   "id": "8b07f1fe",
   "metadata": {},
   "source": []
  },
  {
   "cell_type": "code",
   "execution_count": null,
   "id": "6a8c6ef0",
   "metadata": {
    "scrolled": false
   },
   "outputs": [],
   "source": []
  },
  {
   "cell_type": "markdown",
   "id": "c5280f87",
   "metadata": {},
   "source": []
  },
  {
   "cell_type": "code",
   "execution_count": null,
   "id": "1e4303c8",
   "metadata": {},
   "outputs": [],
   "source": []
  },
  {
   "cell_type": "code",
   "execution_count": null,
   "id": "6828e5e4",
   "metadata": {},
   "outputs": [],
   "source": []
  },
  {
   "cell_type": "code",
   "execution_count": 248,
   "id": "1592829f",
   "metadata": {},
   "outputs": [],
   "source": [
    "\n"
   ]
  },
  {
   "cell_type": "code",
   "execution_count": null,
   "id": "e8ca270f",
   "metadata": {},
   "outputs": [],
   "source": []
  },
  {
   "cell_type": "markdown",
   "id": "0cc31216",
   "metadata": {},
   "source": []
  },
  {
   "cell_type": "markdown",
   "id": "cacf928e",
   "metadata": {},
   "source": []
  },
  {
   "cell_type": "markdown",
   "id": "8b304372",
   "metadata": {},
   "source": []
  },
  {
   "cell_type": "markdown",
   "id": "d0dcf308",
   "metadata": {},
   "source": []
  },
  {
   "cell_type": "markdown",
   "id": "6dc4b457",
   "metadata": {},
   "source": []
  },
  {
   "cell_type": "code",
   "execution_count": null,
   "id": "6a263315",
   "metadata": {},
   "outputs": [],
   "source": []
  },
  {
   "cell_type": "markdown",
   "id": "18069d7e",
   "metadata": {},
   "source": []
  },
  {
   "cell_type": "code",
   "execution_count": null,
   "id": "4feb52db",
   "metadata": {},
   "outputs": [],
   "source": [
    "\n"
   ]
  },
  {
   "cell_type": "code",
   "execution_count": 287,
   "id": "91e56350",
   "metadata": {},
   "outputs": [],
   "source": [
    "\n",
    "\n"
   ]
  },
  {
   "cell_type": "code",
   "execution_count": null,
   "id": "22a9ae92",
   "metadata": {},
   "outputs": [],
   "source": [
    "\n"
   ]
  },
  {
   "cell_type": "code",
   "execution_count": null,
   "id": "658657c3",
   "metadata": {},
   "outputs": [],
   "source": []
  },
  {
   "cell_type": "markdown",
   "id": "f57dafa3",
   "metadata": {},
   "source": []
  },
  {
   "cell_type": "markdown",
   "id": "4d9d9ed8",
   "metadata": {},
   "source": []
  },
  {
   "cell_type": "code",
   "execution_count": null,
   "id": "c0406f58",
   "metadata": {},
   "outputs": [],
   "source": []
  },
  {
   "cell_type": "markdown",
   "id": "0c3e885b",
   "metadata": {},
   "source": []
  },
  {
   "cell_type": "markdown",
   "id": "f74d6aa4",
   "metadata": {},
   "source": [
    "\n",
    "    "
   ]
  },
  {
   "cell_type": "markdown",
   "id": "aa255da2",
   "metadata": {},
   "source": []
  },
  {
   "cell_type": "markdown",
   "id": "9ad1188a",
   "metadata": {},
   "source": []
  },
  {
   "cell_type": "markdown",
   "id": "551ed329",
   "metadata": {},
   "source": []
  },
  {
   "cell_type": "code",
   "execution_count": 293,
   "id": "91273465",
   "metadata": {},
   "outputs": [],
   "source": [
    "\n",
    "\n"
   ]
  },
  {
   "cell_type": "code",
   "execution_count": null,
   "id": "76ffc543",
   "metadata": {},
   "outputs": [],
   "source": [
    "\n",
    "\n"
   ]
  },
  {
   "cell_type": "markdown",
   "id": "4f87fdab",
   "metadata": {},
   "source": []
  },
  {
   "cell_type": "code",
   "execution_count": 295,
   "id": "d55ebfd5",
   "metadata": {},
   "outputs": [],
   "source": [
    "\n"
   ]
  },
  {
   "cell_type": "code",
   "execution_count": 296,
   "id": "fcb99281",
   "metadata": {},
   "outputs": [],
   "source": [
    "\n"
   ]
  },
  {
   "cell_type": "code",
   "execution_count": 297,
   "id": "164a5e61",
   "metadata": {},
   "outputs": [],
   "source": []
  },
  {
   "cell_type": "markdown",
   "id": "4e265c34",
   "metadata": {},
   "source": []
  },
  {
   "cell_type": "code",
   "execution_count": null,
   "id": "4fdb2373",
   "metadata": {},
   "outputs": [],
   "source": []
  },
  {
   "cell_type": "markdown",
   "id": "29e5f8a8",
   "metadata": {},
   "source": []
  },
  {
   "cell_type": "code",
   "execution_count": null,
   "id": "45f23583",
   "metadata": {},
   "outputs": [],
   "source": []
  },
  {
   "cell_type": "code",
   "execution_count": null,
   "id": "a9fbf820",
   "metadata": {},
   "outputs": [],
   "source": []
  },
  {
   "cell_type": "markdown",
   "id": "298d7eee",
   "metadata": {},
   "source": []
  },
  {
   "cell_type": "markdown",
   "id": "f6c147dc",
   "metadata": {},
   "source": []
  },
  {
   "cell_type": "code",
   "execution_count": null,
   "id": "9fe8c24a",
   "metadata": {},
   "outputs": [],
   "source": []
  }
 ],
 "metadata": {
  "kernelspec": {
   "display_name": "Python 3 (ipykernel)",
   "language": "python",
   "name": "python3"
  },
  "language_info": {
   "codemirror_mode": {
    "name": "ipython",
    "version": 3
   },
   "file_extension": ".py",
   "mimetype": "text/x-python",
   "name": "python",
   "nbconvert_exporter": "python",
   "pygments_lexer": "ipython3",
   "version": "3.11.5"
  }
 },
 "nbformat": 4,
 "nbformat_minor": 5
}
